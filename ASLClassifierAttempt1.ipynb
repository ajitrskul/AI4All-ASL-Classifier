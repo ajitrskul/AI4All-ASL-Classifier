{
  "nbformat": 4,
  "nbformat_minor": 0,
  "metadata": {
    "colab": {
      "provenance": [],
      "mount_file_id": "1RYjv_IIJZSjvDsQOztD5-Jx4-fX5wbNM",
      "authorship_tag": "ABX9TyPrGfCrCtkCF0+ukO24DAsl"
    },
    "kernelspec": {
      "name": "python3",
      "display_name": "Python 3"
    },
    "language_info": {
      "name": "python"
    }
  },
  "cells": [
    {
      "cell_type": "code",
      "execution_count": null,
      "metadata": {
        "colab": {
          "base_uri": "https://localhost:8080/"
        },
        "id": "NRNMEAY5knR7",
        "outputId": "921c3899-dacb-430e-b024-5ce5f79c8f7a"
      },
      "outputs": [
        {
          "output_type": "stream",
          "name": "stdout",
          "text": [
            "Requirement already satisfied: opendatasets in /usr/local/lib/python3.10/dist-packages (0.1.22)\n",
            "Requirement already satisfied: tqdm in /usr/local/lib/python3.10/dist-packages (from opendatasets) (4.66.5)\n",
            "Requirement already satisfied: kaggle in /usr/local/lib/python3.10/dist-packages (from opendatasets) (1.6.17)\n",
            "Requirement already satisfied: click in /usr/local/lib/python3.10/dist-packages (from opendatasets) (8.1.7)\n",
            "Requirement already satisfied: six>=1.10 in /usr/local/lib/python3.10/dist-packages (from kaggle->opendatasets) (1.16.0)\n",
            "Requirement already satisfied: certifi>=2023.7.22 in /usr/local/lib/python3.10/dist-packages (from kaggle->opendatasets) (2024.8.30)\n",
            "Requirement already satisfied: python-dateutil in /usr/local/lib/python3.10/dist-packages (from kaggle->opendatasets) (2.8.2)\n",
            "Requirement already satisfied: requests in /usr/local/lib/python3.10/dist-packages (from kaggle->opendatasets) (2.32.3)\n",
            "Requirement already satisfied: python-slugify in /usr/local/lib/python3.10/dist-packages (from kaggle->opendatasets) (8.0.4)\n",
            "Requirement already satisfied: urllib3 in /usr/local/lib/python3.10/dist-packages (from kaggle->opendatasets) (2.2.3)\n",
            "Requirement already satisfied: bleach in /usr/local/lib/python3.10/dist-packages (from kaggle->opendatasets) (6.1.0)\n",
            "Requirement already satisfied: webencodings in /usr/local/lib/python3.10/dist-packages (from bleach->kaggle->opendatasets) (0.5.1)\n",
            "Requirement already satisfied: text-unidecode>=1.3 in /usr/local/lib/python3.10/dist-packages (from python-slugify->kaggle->opendatasets) (1.3)\n",
            "Requirement already satisfied: charset-normalizer<4,>=2 in /usr/local/lib/python3.10/dist-packages (from requests->kaggle->opendatasets) (3.3.2)\n",
            "Requirement already satisfied: idna<4,>=2.5 in /usr/local/lib/python3.10/dist-packages (from requests->kaggle->opendatasets) (3.10)\n",
            "Requirement already satisfied: pandas in /usr/local/lib/python3.10/dist-packages (2.1.4)\n",
            "Requirement already satisfied: numpy<2,>=1.22.4 in /usr/local/lib/python3.10/dist-packages (from pandas) (1.26.4)\n",
            "Requirement already satisfied: python-dateutil>=2.8.2 in /usr/local/lib/python3.10/dist-packages (from pandas) (2.8.2)\n",
            "Requirement already satisfied: pytz>=2020.1 in /usr/local/lib/python3.10/dist-packages (from pandas) (2024.2)\n",
            "Requirement already satisfied: tzdata>=2022.1 in /usr/local/lib/python3.10/dist-packages (from pandas) (2024.1)\n",
            "Requirement already satisfied: six>=1.5 in /usr/local/lib/python3.10/dist-packages (from python-dateutil>=2.8.2->pandas) (1.16.0)\n",
            "Requirement already satisfied: tensorflow in /usr/local/lib/python3.10/dist-packages (2.18.0)\n",
            "Requirement already satisfied: absl-py>=1.0.0 in /usr/local/lib/python3.10/dist-packages (from tensorflow) (1.4.0)\n",
            "Requirement already satisfied: astunparse>=1.6.0 in /usr/local/lib/python3.10/dist-packages (from tensorflow) (1.6.3)\n",
            "Requirement already satisfied: flatbuffers>=24.3.25 in /usr/local/lib/python3.10/dist-packages (from tensorflow) (24.3.25)\n",
            "Requirement already satisfied: gast!=0.5.0,!=0.5.1,!=0.5.2,>=0.2.1 in /usr/local/lib/python3.10/dist-packages (from tensorflow) (0.6.0)\n",
            "Requirement already satisfied: google-pasta>=0.1.1 in /usr/local/lib/python3.10/dist-packages (from tensorflow) (0.2.0)\n",
            "Requirement already satisfied: libclang>=13.0.0 in /usr/local/lib/python3.10/dist-packages (from tensorflow) (18.1.1)\n",
            "Requirement already satisfied: opt-einsum>=2.3.2 in /usr/local/lib/python3.10/dist-packages (from tensorflow) (3.3.0)\n",
            "Requirement already satisfied: packaging in /usr/local/lib/python3.10/dist-packages (from tensorflow) (24.1)\n",
            "Requirement already satisfied: protobuf!=4.21.0,!=4.21.1,!=4.21.2,!=4.21.3,!=4.21.4,!=4.21.5,<6.0.0dev,>=3.20.3 in /usr/local/lib/python3.10/dist-packages (from tensorflow) (3.20.3)\n",
            "Requirement already satisfied: requests<3,>=2.21.0 in /usr/local/lib/python3.10/dist-packages (from tensorflow) (2.32.3)\n",
            "Requirement already satisfied: setuptools in /usr/local/lib/python3.10/dist-packages (from tensorflow) (71.0.4)\n",
            "Requirement already satisfied: six>=1.12.0 in /usr/local/lib/python3.10/dist-packages (from tensorflow) (1.16.0)\n",
            "Requirement already satisfied: termcolor>=1.1.0 in /usr/local/lib/python3.10/dist-packages (from tensorflow) (2.4.0)\n",
            "Requirement already satisfied: typing-extensions>=3.6.6 in /usr/local/lib/python3.10/dist-packages (from tensorflow) (4.12.2)\n",
            "Requirement already satisfied: wrapt>=1.11.0 in /usr/local/lib/python3.10/dist-packages (from tensorflow) (1.16.0)\n",
            "Requirement already satisfied: grpcio<2.0,>=1.24.3 in /usr/local/lib/python3.10/dist-packages (from tensorflow) (1.64.1)\n",
            "Requirement already satisfied: tensorboard<2.19,>=2.18 in /usr/local/lib/python3.10/dist-packages (from tensorflow) (2.18.0)\n",
            "Requirement already satisfied: keras>=3.5.0 in /usr/local/lib/python3.10/dist-packages (from tensorflow) (3.6.0)\n",
            "Requirement already satisfied: numpy<2.1.0,>=1.26.0 in /usr/local/lib/python3.10/dist-packages (from tensorflow) (1.26.4)\n",
            "Requirement already satisfied: h5py>=3.11.0 in /usr/local/lib/python3.10/dist-packages (from tensorflow) (3.11.0)\n",
            "Requirement already satisfied: ml-dtypes<0.5.0,>=0.4.0 in /usr/local/lib/python3.10/dist-packages (from tensorflow) (0.4.1)\n",
            "Requirement already satisfied: tensorflow-io-gcs-filesystem>=0.23.1 in /usr/local/lib/python3.10/dist-packages (from tensorflow) (0.37.1)\n",
            "Requirement already satisfied: wheel<1.0,>=0.23.0 in /usr/local/lib/python3.10/dist-packages (from astunparse>=1.6.0->tensorflow) (0.44.0)\n",
            "Requirement already satisfied: rich in /usr/local/lib/python3.10/dist-packages (from keras>=3.5.0->tensorflow) (13.8.1)\n",
            "Requirement already satisfied: namex in /usr/local/lib/python3.10/dist-packages (from keras>=3.5.0->tensorflow) (0.0.8)\n",
            "Requirement already satisfied: optree in /usr/local/lib/python3.10/dist-packages (from keras>=3.5.0->tensorflow) (0.12.1)\n",
            "Requirement already satisfied: charset-normalizer<4,>=2 in /usr/local/lib/python3.10/dist-packages (from requests<3,>=2.21.0->tensorflow) (3.3.2)\n",
            "Requirement already satisfied: idna<4,>=2.5 in /usr/local/lib/python3.10/dist-packages (from requests<3,>=2.21.0->tensorflow) (3.10)\n",
            "Requirement already satisfied: urllib3<3,>=1.21.1 in /usr/local/lib/python3.10/dist-packages (from requests<3,>=2.21.0->tensorflow) (2.2.3)\n",
            "Requirement already satisfied: certifi>=2017.4.17 in /usr/local/lib/python3.10/dist-packages (from requests<3,>=2.21.0->tensorflow) (2024.8.30)\n",
            "Requirement already satisfied: markdown>=2.6.8 in /usr/local/lib/python3.10/dist-packages (from tensorboard<2.19,>=2.18->tensorflow) (3.7)\n",
            "Requirement already satisfied: tensorboard-data-server<0.8.0,>=0.7.0 in /usr/local/lib/python3.10/dist-packages (from tensorboard<2.19,>=2.18->tensorflow) (0.7.2)\n",
            "Requirement already satisfied: werkzeug>=1.0.1 in /usr/local/lib/python3.10/dist-packages (from tensorboard<2.19,>=2.18->tensorflow) (3.0.4)\n",
            "Requirement already satisfied: MarkupSafe>=2.1.1 in /usr/local/lib/python3.10/dist-packages (from werkzeug>=1.0.1->tensorboard<2.19,>=2.18->tensorflow) (2.1.5)\n",
            "Requirement already satisfied: markdown-it-py>=2.2.0 in /usr/local/lib/python3.10/dist-packages (from rich->keras>=3.5.0->tensorflow) (3.0.0)\n",
            "Requirement already satisfied: pygments<3.0.0,>=2.13.0 in /usr/local/lib/python3.10/dist-packages (from rich->keras>=3.5.0->tensorflow) (2.18.0)\n",
            "Requirement already satisfied: mdurl~=0.1 in /usr/local/lib/python3.10/dist-packages (from markdown-it-py>=2.2.0->rich->keras>=3.5.0->tensorflow) (0.1.2)\n",
            "Requirement already satisfied: keras in /usr/local/lib/python3.10/dist-packages (3.6.0)\n",
            "Requirement already satisfied: absl-py in /usr/local/lib/python3.10/dist-packages (from keras) (1.4.0)\n",
            "Requirement already satisfied: numpy in /usr/local/lib/python3.10/dist-packages (from keras) (1.26.4)\n",
            "Requirement already satisfied: rich in /usr/local/lib/python3.10/dist-packages (from keras) (13.8.1)\n",
            "Requirement already satisfied: namex in /usr/local/lib/python3.10/dist-packages (from keras) (0.0.8)\n",
            "Requirement already satisfied: h5py in /usr/local/lib/python3.10/dist-packages (from keras) (3.11.0)\n",
            "Requirement already satisfied: optree in /usr/local/lib/python3.10/dist-packages (from keras) (0.12.1)\n",
            "Requirement already satisfied: ml-dtypes in /usr/local/lib/python3.10/dist-packages (from keras) (0.4.1)\n",
            "Requirement already satisfied: packaging in /usr/local/lib/python3.10/dist-packages (from keras) (24.1)\n",
            "Requirement already satisfied: typing-extensions>=4.5.0 in /usr/local/lib/python3.10/dist-packages (from optree->keras) (4.12.2)\n",
            "Requirement already satisfied: markdown-it-py>=2.2.0 in /usr/local/lib/python3.10/dist-packages (from rich->keras) (3.0.0)\n",
            "Requirement already satisfied: pygments<3.0.0,>=2.13.0 in /usr/local/lib/python3.10/dist-packages (from rich->keras) (2.18.0)\n",
            "Requirement already satisfied: mdurl~=0.1 in /usr/local/lib/python3.10/dist-packages (from markdown-it-py>=2.2.0->rich->keras) (0.1.2)\n"
          ]
        }
      ],
      "source": [
        "#Installing dependent libraries\n",
        "\n",
        "!pip install opendatasets\n",
        "!pip install pandas\n",
        "!pip install -q kaggle\n",
        "!pip install tensorflow\n",
        "!pip install keras"
      ]
    },
    {
      "cell_type": "code",
      "source": [
        "#Check tensorflow version for incompatibilities\n",
        "print(tf.__version__)"
      ],
      "metadata": {
        "colab": {
          "base_uri": "https://localhost:8080/"
        },
        "id": "xlIXa-s8d8OJ",
        "outputId": "bd93a79a-b557-4deb-80bd-408e4c10995c"
      },
      "execution_count": null,
      "outputs": [
        {
          "output_type": "stream",
          "name": "stdout",
          "text": [
            "2.18.0\n"
          ]
        }
      ]
    },
    {
      "cell_type": "code",
      "source": [
        "#mount google drive\n",
        "from google.colab import drive\n",
        "drive.mount('/content/drive')"
      ],
      "metadata": {
        "colab": {
          "base_uri": "https://localhost:8080/"
        },
        "id": "bE1UFSpWlbUM",
        "outputId": "c76da546-f532-4551-ad9b-78ec9734195d"
      },
      "execution_count": null,
      "outputs": [
        {
          "output_type": "stream",
          "name": "stdout",
          "text": [
            "Drive already mounted at /content/drive; to attempt to forcibly remount, call drive.mount(\"/content/drive\", force_remount=True).\n"
          ]
        }
      ]
    },
    {
      "cell_type": "code",
      "source": [
        "#Insert your folder path for zipped dataset here\n",
        "zip_file_path = r\"/content/drive/MyDrive/TAMU Junior Year/AI4All/AI4ALL-Class-16-Group-2/ASL Dataset.zip\""
      ],
      "metadata": {
        "id": "1ygTL4kUInxH"
      },
      "execution_count": null,
      "outputs": []
    },
    {
      "cell_type": "code",
      "source": [
        "#switching to dataset directory\n",
        "!unzip  \"{zip_file_path}\" -d /content/ASLDataset"
      ],
      "metadata": {
        "colab": {
          "base_uri": "https://localhost:8080/"
        },
        "id": "j6O2iO3hlf0S",
        "outputId": "06a7cc93-f0d4-43d6-ef30-59db3fdb4030"
      },
      "execution_count": null,
      "outputs": [
        {
          "output_type": "stream",
          "name": "stdout",
          "text": [
            "Archive:  /content/drive/MyDrive/TAMU Junior Year/AI4All/AI4ALL-Class-16-Group-2/ASL Dataset.zip\n",
            "replace /content/ASLDataset/ASL_Alphabet_Dataset/asl_alphabet_test/A_test.jpg? [y]es, [n]o, [A]ll, [N]one, [r]ename: "
          ]
        }
      ]
    },
    {
      "cell_type": "code",
      "source": [
        "%cd /content/ASLDataset/ASL_Alphabet_Dataset\n",
        "!ls"
      ],
      "metadata": {
        "colab": {
          "base_uri": "https://localhost:8080/"
        },
        "id": "ABPxREfmJ6EQ",
        "outputId": "ca11274e-3bdf-4f50-c674-e640659c8aaa"
      },
      "execution_count": null,
      "outputs": [
        {
          "output_type": "stream",
          "name": "stdout",
          "text": [
            "/content/ASLDataset/ASL_Alphabet_Dataset\n",
            "asl_alphabet_test  asl_alphabet_train\n"
          ]
        }
      ]
    },
    {
      "cell_type": "code",
      "source": [
        "%cd asl_alphabet_test\n",
        "\n",
        "#testing dataset\n",
        "from IPython.display import Image\n",
        "Image('A_test.jpg')"
      ],
      "metadata": {
        "colab": {
          "base_uri": "https://localhost:8080/",
          "height": 234
        },
        "id": "z2a5MFJXmxC2",
        "outputId": "fd2ead53-3a72-42fa-fe23-c351719b5a13"
      },
      "execution_count": null,
      "outputs": [
        {
          "output_type": "stream",
          "name": "stdout",
          "text": [
            "/content/ASLDataset/ASL_Alphabet_Dataset/asl_alphabet_test\n"
          ]
        },
        {
          "output_type": "execute_result",
          "data": {
            "image/jpeg": "[encoded data removed]",
            "text/plain": [
              "<IPython.core.display.Image object>"
            ]
          },
          "metadata": {},
          "execution_count": 91
        }
      ]
    },
    {
      "cell_type": "code",
      "source": [
        "%cd ../asl_alphabet_train\n",
        "\n",
        "#initialize class names for classification\n",
        "class_names = ['A', 'B', 'C', 'D', 'E', 'F', 'G', 'H', 'I', 'J', 'K', 'L', 'M', 'N', 'O', 'P', 'Q', 'R', 'S', 'T', 'U', 'V', 'W', 'X', 'Y', 'Z', 'other']\n",
        "#label class names with numbers corresponding to each class in a dictionary format (0-26)\n",
        "class_names_label = {class_name:i for i, class_name in enumerate(class_names)}\n",
        "\n",
        "nb_classes = len(class_names)\n",
        "\n",
        "#defining image size in dataset\n",
        "IMAGE_SIZE = (200, 200)\n",
        "\n",
        "#print class names with corresponding numerical label\n",
        "print(class_names_label)"
      ],
      "metadata": {
        "id": "5WyoFDdcnQxH",
        "colab": {
          "base_uri": "https://localhost:8080/"
        },
        "outputId": "096b9fc4-06fe-41a7-c32f-0fe0135be0ab"
      },
      "execution_count": null,
      "outputs": [
        {
          "output_type": "stream",
          "name": "stdout",
          "text": [
            "/content/ASLDataset/ASL_Alphabet_Dataset/asl_alphabet_train\n",
            "{'A': 0, 'B': 1, 'C': 2, 'D': 3, 'E': 4, 'F': 5, 'G': 6, 'H': 7, 'I': 8, 'J': 9, 'K': 10, 'L': 11, 'M': 12, 'N': 13, 'O': 14, 'P': 15, 'Q': 16, 'R': 17, 'S': 18, 'T': 19, 'U': 20, 'V': 21, 'W': 22, 'X': 23, 'Y': 24, 'Z': 25, 'other': 26}\n"
          ]
        }
      ]
    },
    {
      "cell_type": "code",
      "source": [
        "#Importing library dependencies\n",
        "import numpy as np\n",
        "import pandas as pd\n",
        "import os\n",
        "from sklearn.metrics import classification_report\n",
        "import seaborn as sn; sn.set(font_scale=1.4)\n",
        "from sklearn.utils import shuffle\n",
        "import matplotlib.pyplot as plt\n",
        "import cv2\n",
        "import tensorflow as tf\n",
        "from tensorflow import keras\n",
        "from tensorflow.keras.models import Sequential\n",
        "from tensorflow.keras.layers import Activation, Dense, Flatten, BatchNormalization, Conv2D, MaxPooling2D, GlobalAveragePooling2D, Dropout\n",
        "from tqdm import tqdm\n",
        "import shutil\n",
        "from math import ceil"
      ],
      "metadata": {
        "id": "Cx-kKr_4Y-th"
      },
      "execution_count": null,
      "outputs": []
    },
    {
      "cell_type": "code",
      "source": [
        "#Merges del, nothing, and space folder in \"other\" folder\n",
        "\n",
        "# Define valid image extensions\n",
        "VALID_IMAGE_EXTENSIONS = {'.jpg', '.jpeg', '.png', '.bmp', '.tiff', '.gif'}\n",
        "\n",
        "if not os.path.exists('./other'):\n",
        "  os.makedirs('./other')\n",
        "\n",
        "if (os.path.exists('./nothing')):\n",
        "  for image in os.listdir('./nothing'):\n",
        "    s = os.path.join('./nothing', image) #gets path of image in nothing folder\n",
        "\n",
        "    if os.path.isfile(s) and os.path.splitext(image)[1].lower() in VALID_IMAGE_EXTENSIONS:\n",
        "        d = os.path.join('./other', image)  #makes path of image in other folder\n",
        "        shutil.move(s, d)  #moves image in nothing folder into other folder\n",
        "\n",
        "if (os.path.exists('./space')):\n",
        "  for image in os.listdir('./space'):\n",
        "    s = os.path.join('./space', image) #gets path of image in space folder\n",
        "    if os.path.isfile(s) and os.path.splitext(image)[1].lower() in VALID_IMAGE_EXTENSIONS:\n",
        "        d = os.path.join('./other', image)  #makes path of image in other folder\n",
        "        shutil.move(s, d)  #moves image in space folder into other folder\n",
        "\n",
        "if (os.path.exists('./del')):\n",
        "  for image in os.listdir('./del'):\n",
        "    s = os.path.join('./del', image) #gets path of image in del folder\n",
        "    if os.path.isfile(s) and os.path.splitext(image)[1].lower() in VALID_IMAGE_EXTENSIONS:\n",
        "        d = os.path.join('./other', image)  #makes path of image in other folder\n",
        "        shutil.move(s, d)  #moves image in del folder into other folder"
      ],
      "metadata": {
        "id": "yfANbFa8ajjo"
      },
      "execution_count": null,
      "outputs": []
    },
    {
      "cell_type": "code",
      "source": [
        "#Delete empty folder paths\n",
        "folder_paths = ['./nothing', './del', './space']\n",
        "\n",
        "for folder_path in folder_paths:\n",
        "  if os.path.exists(folder_path) and os.path.isdir(folder_path):\n",
        "    shutil.rmtree(folder_path)\n",
        "    print(f\"Deleted folder: {folder_path}\")\n",
        "  else:\n",
        "    print(f\"Folder not found or not a directory: {folder_path}\")\n",
        "%ls"
      ],
      "metadata": {
        "colab": {
          "base_uri": "https://localhost:8080/"
        },
        "id": "2kvNpkRMcVit",
        "outputId": "1c44ee99-e10c-436c-d11d-0de1e535a0ec"
      },
      "execution_count": null,
      "outputs": [
        {
          "output_type": "stream",
          "name": "stdout",
          "text": [
            "Folder not found or not a directory: ./nothing\n",
            "Folder not found or not a directory: ./del\n",
            "Folder not found or not a directory: ./space\n",
            "\u001b[0m\u001b[01;34mA\u001b[0m/  \u001b[01;34mC\u001b[0m/  \u001b[01;34mE\u001b[0m/  \u001b[01;34mG\u001b[0m/  \u001b[01;34mI\u001b[0m/  \u001b[01;34mK\u001b[0m/  \u001b[01;34mM\u001b[0m/  \u001b[01;34mO\u001b[0m/      \u001b[01;34mP\u001b[0m/  \u001b[01;34mR\u001b[0m/  \u001b[01;34mT\u001b[0m/  \u001b[01;34mV\u001b[0m/  \u001b[01;34mX\u001b[0m/  \u001b[01;34mZ\u001b[0m/\n",
            "\u001b[01;34mB\u001b[0m/  \u001b[01;34mD\u001b[0m/  \u001b[01;34mF\u001b[0m/  \u001b[01;34mH\u001b[0m/  \u001b[01;34mJ\u001b[0m/  \u001b[01;34mL\u001b[0m/  \u001b[01;34mN\u001b[0m/  \u001b[01;34mother\u001b[0m/  \u001b[01;34mQ\u001b[0m/  \u001b[01;34mS\u001b[0m/  \u001b[01;34mU\u001b[0m/  \u001b[01;34mW\u001b[0m/  \u001b[01;34mY\u001b[0m/\n"
          ]
        }
      ]
    },
    {
      "cell_type": "code",
      "source": [
        "#Renaming all images in other to other1-other{n}...\n",
        "folder_path = './other'\n",
        "image_name_prefix = 'other'\n",
        "\n",
        "#Normalize folder_path to ensure no trailing slash\n",
        "folder_path = os.path.normpath(folder_path)\n",
        "\n",
        "#lists all images in the folder\n",
        "images = os.listdir(folder_path)\n",
        "\n",
        "#Rename each item\n",
        "for i, image in enumerate(images, start=1):\n",
        "  #Get current image's file path\n",
        "  old_path = os.path.join(folder_path, image)\n",
        "\n",
        "  #Construct new name w/ numerical ordering and file extension\n",
        "  new_name = f\"{image_name_prefix}{i}.jpg\"\n",
        "  new_path = os.path.join(folder_path, new_name)\n",
        "\n",
        "  #Rename image\n",
        "  if not os.path.exists(new_path):\n",
        "        os.rename(old_path, new_path)\n",
        "\n",
        "print(f\"Renamed {len(images)} images in the other folder\")"
      ],
      "metadata": {
        "colab": {
          "base_uri": "https://localhost:8080/"
        },
        "id": "zFwnwm7rcwLp",
        "outputId": "d2ca0fd9-6e56-428d-a58f-2bf47a2d4c1e"
      },
      "execution_count": null,
      "outputs": [
        {
          "output_type": "stream",
          "name": "stdout",
          "text": [
            "Renamed 16937 images in the other folder\n"
          ]
        }
      ]
    },
    {
      "cell_type": "code",
      "source": [
        "#function used to train & test data\n",
        "def collectData():\n",
        "  img_paths = []\n",
        "  labels = []\n",
        "\n",
        "\n",
        "  for folder in os.listdir(\"./\"): #loop through all directories in current file path\n",
        "    label = class_names_label[folder] #folder names are same as class_names dictionary (will return a number) --> i.e. class_names_label[\"A\"] = 0\n",
        "\n",
        "    #Iterate through each image in our folder\n",
        "    for file in os.listdir(os.path.join(\"./\", folder)):\n",
        "      img_path = os.path.join(os.path.join(\"./\", folder), file)\n",
        "\n",
        "      img_paths.append(img_path) #append image to list\n",
        "      labels.append(label) #append label of imgae to list\n",
        "\n",
        "  return img_paths, labels\n",
        "\n",
        "#put all image file paths in image_paths list and all corresponding labels in labels list\n",
        "image_paths, labels = collectData()"
      ],
      "metadata": {
        "id": "n83cOYpgT2uZ"
      },
      "execution_count": null,
      "outputs": []
    },
    {
      "cell_type": "code",
      "source": [
        "from sklearn.model_selection import train_test_split\n",
        "\n",
        "#stratify on labels b/c far more data in other folder than the rest of the classes (also set random state during data testing)\n",
        "img_train, img_test, label_train, label_test = train_test_split(image_paths, labels, test_size=0.2, stratify=labels, random_state=42)\n",
        "\n",
        "print(len(img_train), len(label_train))\n",
        "print(len(img_test), len(label_test))"
      ],
      "metadata": {
        "colab": {
          "base_uri": "https://localhost:8080/"
        },
        "id": "Yt4CeZDVyxFw",
        "outputId": "90e43fd2-8e82-4778-e550-fed53ad731ad"
      },
      "execution_count": null,
      "outputs": [
        {
          "output_type": "stream",
          "name": "stdout",
          "text": [
            "178459 178459\n",
            "44615 44615\n"
          ]
        }
      ]
    },
    {
      "cell_type": "code",
      "source": [
        "from tensorflow.keras.preprocessing.image import ImageDataGenerator\n",
        "\n",
        "# Step 1: Create a custom data generator\n",
        "def custom_data_generator(image_paths, labels, batch_size, datagen, target_size=(200, 200)):\n",
        "    while True:  # Infinite loop to keep generating batches\n",
        "        indices = np.random.permutation(len(image_paths))  # Shuffle data\n",
        "\n",
        "        for i in range(0, len(image_paths), batch_size):\n",
        "            batch_indices = indices[i:i + batch_size]\n",
        "            batch_image_paths = [image_paths[j] for j in batch_indices]\n",
        "            batch_labels = [labels[j] for j in batch_indices]\n",
        "\n",
        "            batch_images = []\n",
        "            for img_path in batch_image_paths:\n",
        "                img = cv2.imread(img_path, cv2.IMREAD_GRAYSCALE)\n",
        "                if img is None:\n",
        "                    print(f\"Error loading image: {img_path}\")\n",
        "                    continue  # Skip invalid images\n",
        "                img = cv2.resize(img, target_size)  # Resize to the desired shape (e.g., 200x200)\n",
        "                batch_images.append(img)\n",
        "\n",
        "            # If there are no valid images in the batch, skip this iteration\n",
        "            if len(batch_images) == 0:\n",
        "                continue\n",
        "\n",
        "            # Convert the list of images to a NumPy array\n",
        "            batch_images = np.array(batch_images)\n",
        "            batch_images = np.expand_dims(batch_images, axis=-1)  # Add channel dimension\n",
        "            batch_images = batch_images.astype('float32') / 255.0  # Normalize the images\n",
        "\n",
        "            # Apply data augmentation using flow\n",
        "            augmented_images = datagen.flow(batch_images, batch_size=batch_size, shuffle=False)\n",
        "\n",
        "            # Yield augmented images and corresponding labels\n",
        "            for augmented_batch_images in augmented_images:\n",
        "                yield augmented_batch_images, np.array(batch_labels)  # Yield the batch of images and labels\n",
        "\n",
        "# Step 2: Define your ImageDataGenerator for augmentation\n",
        "datagen = ImageDataGenerator(\n",
        "    rescale=1./255,  # Rescale the pixel values\n",
        "    rotation_range=40,  # Random rotations\n",
        "    width_shift_range=0.2,  # Random horizontal shifts\n",
        "    height_shift_range=0.2,  # Random vertical shifts\n",
        "    shear_range=0.2,  # Shear transformation\n",
        "    zoom_range=0.2,  # Zoom in and out\n",
        "    horizontal_flip=True,  # Randomly flip images\n",
        "    fill_mode='nearest'  # Fill missing pixels after transformations\n",
        ")\n",
        "\n",
        "batch_size = 32\n",
        "target_size = (200, 200)\n",
        "\n",
        "# Create the custom generator\n",
        "train_generator = custom_data_generator(img_train, label_train, batch_size, datagen, target_size)\n",
        "test_generator = custom_data_generator(img_test, label_test, batch_size, datagen, target_size)\n"
      ],
      "metadata": {
        "id": "hyo87FJZkSi5"
      },
      "execution_count": null,
      "outputs": []
    },
    {
      "cell_type": "markdown",
      "source": [
        "**Attempt at using tf.data API to have lazy pre-processing FAILED**"
      ],
      "metadata": {
        "id": "g7A6Ku17scs5"
      }
    },
    {
      "cell_type": "code",
      "source": [
        "#Use tensor flow lazy pre-processing (tf.data) in order to only load required data onto RAM\n",
        "\n",
        "# Function to load and preprocess images\n",
        "def load_image(image_path, label):\n",
        "  image_path = image_path.numpy().decode('utf-8')  # Convert to string\n",
        "  img = cv2.imread(image_path, cv2.IMREAD_COLOR)  # Read as grayscale\n",
        "  img = cv2.resize(img, (200,200))\n",
        "  img = img.astype('float32') / 255.0  # Normalize the image\n",
        "  #img = np.expand_dims(img, axis=-1)  # Add channel dimension\n",
        "  return img, label\n",
        "\n",
        "def preprocess_image(image_path, label):\n",
        "  img, label = tf.py_function(\n",
        "      load_image,\n",
        "      inp=[image_path, label],\n",
        "      Tout=(tf.float32, tf.int32))\n",
        "\n",
        "  img.set_shape((200, 200, 3)) #define grayscale image numpy array shape\n",
        "  return img, label\n",
        "\n",
        "# Create a dataset from a list of image paths and labels\n",
        "def create_dataset(image_paths, labels, batch_size=32):\n",
        "    # Create a TensorFlow dataset from image paths and labels\n",
        "    path_ds = tf.data.Dataset.from_tensor_slices((image_paths, labels)) #uses lazy processing to save memory\n",
        "\n",
        "    #Map the load_image function to the dataset (to load and preprocess images)\n",
        "    image_ds = path_ds.map(preprocess_image)\n",
        "\n",
        "    # Shuffle, batch, and prefetch for performance\n",
        "    image_ds = image_ds.shuffle(buffer_size=1000).batch(batch_size).prefetch(tf.data.experimental.AUTOTUNE)\n",
        "    #image_ds = image_ds.shuffle(buffer_size=1000).prefetch(tf.data.experimental.AUTOTUNE)\n",
        "\n",
        "    return image_ds\n",
        "\n",
        "\n",
        "# Create the TensorFlow datasets for training & testing\n",
        "train_dataset = create_dataset(img_train, label_train)\n",
        "test_dataset = create_dataset(img_test, label_test)"
      ],
      "metadata": {
        "id": "qF6ckDtM_s95"
      },
      "execution_count": null,
      "outputs": []
    },
    {
      "cell_type": "code",
      "source": [
        "history = model.fit(train_dataset, validation_data=test_dataset, epochs=10, verbose=1)"
      ],
      "metadata": {
        "id": "Y3xUJpi3sb4X"
      },
      "execution_count": null,
      "outputs": []
    },
    {
      "cell_type": "markdown",
      "source": [
        "End of tf.data API attempt"
      ],
      "metadata": {
        "id": "t7AG1_uFsivy"
      }
    },
    {
      "cell_type": "markdown",
      "source": [
        "**Attempt to segment image arrays to prevent RAM overload below:**"
      ],
      "metadata": {
        "id": "5sEBGwEVAJ-X"
      }
    },
    {
      "cell_type": "code",
      "source": [
        "#loop through each image path, open and resize the image, then append them to numpy arrays to train keras CNN with\n",
        "imageTrainList = []\n",
        "labelTrainList = []\n",
        "\n",
        "#Split data in 40,000 image segments to prevent overwhelming CPU\n",
        "for i in range(40001):\n",
        "  img_path = img_train[i]\n",
        "  image = cv2.imread(img_path)\n",
        "  image = cv2.cvtColor(image, cv2.COLOR_BGR2GRAY)\n",
        "  image = cv2.resize(image, IMAGE_SIZE)\n",
        "\n",
        "  imageTrainList.append(image)\n",
        "  labelTrainList.append(label_train[i])"
      ],
      "metadata": {
        "id": "nXA6yZjthDGq"
      },
      "execution_count": null,
      "outputs": []
    },
    {
      "cell_type": "code",
      "source": [
        "#segment 2\n",
        "for i in range(40001,80001):\n",
        "  img_path = img_train[i]\n",
        "  image = cv2.imread(img_path)\n",
        "  image = cv2.cvtColor(image, cv2.COLOR_BGR2GRAY)\n",
        "  image = cv2.resize(image, IMAGE_SIZE)\n",
        "\n",
        "  imageTrainList.append(image)\n",
        "  labelTrainList.append(label_train[i])"
      ],
      "metadata": {
        "id": "t4KoYzWMyreo"
      },
      "execution_count": null,
      "outputs": []
    },
    {
      "cell_type": "code",
      "source": [
        "#segment 3\n",
        "for i in range(80001,120001):\n",
        "  img_path = img_train[i]\n",
        "  image = cv2.imread(img_path)\n",
        "  image = cv2.cvtColor(image, cv2.COLOR_BGR2GRAY)\n",
        "  image = cv2.resize(image, IMAGE_SIZE)\n",
        "\n",
        "  imageTrainList.append(image)\n",
        "  labelTrainList.append(label_train[i])"
      ],
      "metadata": {
        "id": "YE6QZcYVzsG4"
      },
      "execution_count": null,
      "outputs": []
    },
    {
      "cell_type": "code",
      "source": [
        "#segment 4\n",
        "for i in range(120001,140001):\n",
        "  img_path = img_train[i]\n",
        "  image = cv2.imread(img_path)\n",
        "  image = cv2.cvtColor(image, cv2.COLOR_BGR2GRAY)\n",
        "  image = cv2.resize(image, IMAGE_SIZE)\n",
        "\n",
        "  imageTrainList.append(image)\n",
        "  labelTrainList.append(label_train[i])"
      ],
      "metadata": {
        "id": "zvC6qLabzzio"
      },
      "execution_count": null,
      "outputs": []
    },
    {
      "cell_type": "code",
      "source": [
        "#segment 5\n",
        "for i in range(140001,len(img_train)):\n",
        "  img_path = img_train[i]\n",
        "  image = cv2.imread(img_path)\n",
        "  image = cv2.cvtColor(image, cv2.COLOR_BGR2GRAY)\n",
        "  image = cv2.resize(image, IMAGE_SIZE)\n",
        "\n",
        "  imageTrainList.append(image)\n",
        "  labelTrainList.append(label_train[i])"
      ],
      "metadata": {
        "id": "TGiCRMupz3aH"
      },
      "execution_count": null,
      "outputs": []
    },
    {
      "cell_type": "code",
      "source": [
        "#Convert training images to numpy arrays for keras usage\n",
        "imageTrainList = np.array(imageTrainList, dtype='float32')\n",
        "labelTrainList = np.array(labelTrainList, dtype='int32')"
      ],
      "metadata": {
        "id": "gU72AF7AzZUy"
      },
      "execution_count": null,
      "outputs": []
    },
    {
      "cell_type": "code",
      "source": [
        "#Shuffle images for better training (standard procedure)\n",
        "imageTrainList, labelTrainList = shuffle(imageTrainList, labelTrainList, random_state=42)\n",
        "\n",
        "print(\"Training Image & Label array conversion successful!\")"
      ],
      "metadata": {
        "id": "2ZfMG1u-9yHh"
      },
      "execution_count": null,
      "outputs": []
    },
    {
      "cell_type": "code",
      "source": [
        "from tensorflow.keras.preprocessing.image import ImageDataGenerator\n",
        "\n",
        "datagen = ImageDataGenerator( #automatic data augmentation\n",
        "    rescale=1./255,  # Normalize pixel values to range [0, 1]\n",
        "    rotation_range=40,  # Random rotation between 0 and 40 degrees\n",
        "    width_shift_range=0.2,  # Horizontal shift\n",
        "    height_shift_range=0.2,  # Vertical shift\n",
        "    shear_range=0.2,  # Random shear transformation\n",
        "    zoom_range=0.2,  # Random zoom\n",
        "    horizontal_flip=True,  # Random horizontal flip\n",
        "    fill_mode='nearest'  # How to fill newly created pixels\n",
        ")\n",
        "\n"
      ],
      "metadata": {
        "id": "-TmAIGgO2ioN"
      },
      "execution_count": null,
      "outputs": []
    },
    {
      "cell_type": "code",
      "source": [
        "# Using datagenerator, generate batches of data from numpy array lists\n",
        "train_generator = datagen.flow(imageTrainList, labelTrainList, batch_size=32)"
      ],
      "metadata": {
        "id": "zadKp29t4gsC"
      },
      "execution_count": null,
      "outputs": []
    },
    {
      "cell_type": "code",
      "source": [
        "#Do the same w/o shuffling for testing\n",
        "imageTestList = []\n",
        "labelTestList = []\n",
        "\n",
        "for i in range(len(img_test)):\n",
        "  img_path = img_test[i]\n",
        "  image = cv2.imread(img_path)\n",
        "  image = cv2.cvtColor(image, cv2.COLOR_BGR2GRAY)\n",
        "  image = cv2.resize(image, IMAGE_SIZE)\n",
        "\n",
        "  imageTestList.append(image)\n",
        "  labelTestList.append(label_test[i])"
      ],
      "metadata": {
        "id": "d9VrA1pyv5_o"
      },
      "execution_count": null,
      "outputs": []
    },
    {
      "cell_type": "code",
      "source": [
        "#Convert training images to numpy arrays for keras usage\n",
        "imageTestArray = np.array(imageTestList, dtype='float32')\n",
        "labelTestArray = np.array(labelTestList, dtype='int32')\n",
        "\n",
        "print(\"Testing Image & Label array conversion successful!\")"
      ],
      "metadata": {
        "id": "1ZLBysa49-dC"
      },
      "execution_count": null,
      "outputs": []
    },
    {
      "cell_type": "markdown",
      "source": [
        "**End of image segmentation attempt**"
      ],
      "metadata": {
        "id": "FTw8z-SpBhBI"
      }
    },
    {
      "cell_type": "code",
      "source": [
        "#Creating CNN with keras\n",
        "#This CNN has:\n",
        "#1 hidden layer\n",
        "#Input layer = convolution layer -> also followed by MaxPoolingLayer\n",
        "#Hidden layer of another convolution layer & MaxPoolingLayer\n",
        "#flatten outputs to reduce the number of features and have an output layer consisting of a dense relu layer & dense softmax layer\n",
        "model = tf.keras.models.Sequential([\n",
        "    # Input layer (no need to specify input_shape if it's the first layer)\n",
        "    tf.keras.layers.Conv2D(32, 3, activation='relu', padding='same', input_shape=(200, 200, 1)),\n",
        "    tf.keras.layers.Conv2D(32, 3, activation='relu', padding='same'),\n",
        "    tf.keras.layers.MaxPooling2D(pool_size=(2, 2), padding='valid'),  # Corrected pooling layer\n",
        "    tf.keras.layers.Dropout(0.2),\n",
        "\n",
        "    tf.keras.layers.Conv2D(64, 3, activation='relu', padding='same'),\n",
        "    tf.keras.layers.Conv2D(64, 3, activation='relu', padding='same'),\n",
        "    tf.keras.layers.MaxPooling2D(pool_size=(2, 2), padding='valid'),  # Corrected pooling layer\n",
        "    tf.keras.layers.Dropout(0.3),\n",
        "\n",
        "    tf.keras.layers.Conv2D(128, 3, activation='relu', padding='same'),\n",
        "    tf.keras.layers.Conv2D(128, 3, activation='relu', padding='same'),\n",
        "    tf.keras.layers.MaxPooling2D(pool_size=(2, 2), padding='valid'),  # Corrected pooling layer\n",
        "    tf.keras.layers.Dropout(0.4),\n",
        "\n",
        "    # Flatten the feature maps before passing to dense layers\n",
        "    tf.keras.layers.Flatten(),\n",
        "    tf.keras.layers.Dense(512, activation='relu'),\n",
        "    tf.keras.layers.Dropout(0.2),\n",
        "\n",
        "    # Output layer with softmax activation for classification\n",
        "    tf.keras.layers.Dense(27, activation='softmax')  # Assuming 27 classes\n",
        "])"
      ],
      "metadata": {
        "id": "cK1NjkYekwb8"
      },
      "execution_count": null,
      "outputs": []
    },
    {
      "cell_type": "code",
      "source": [
        "model.compile(optimizer='adam', loss='sparse_categorical_crossentropy', metrics=['accuracy'])"
      ],
      "metadata": {
        "id": "5Cqbhkdku5c7"
      },
      "execution_count": null,
      "outputs": []
    },
    {
      "cell_type": "code",
      "source": [
        "model.summary();"
      ],
      "metadata": {
        "colab": {
          "base_uri": "https://localhost:8080/",
          "height": 680
        },
        "id": "TKU5M5e5c1yt",
        "outputId": "c476736e-56a9-4bec-9f53-9f67c5e3d623"
      },
      "execution_count": null,
      "outputs": [
        {
          "output_type": "display_data",
          "data": {
            "text/plain": [
              "\u001b[1mModel: \"sequential_40\"\u001b[0m\n"
            ],
            "text/html": [
              "<pre style=\"white-space:pre;overflow-x:auto;line-height:normal;font-family:Menlo,'DejaVu Sans Mono',consolas,'Courier New',monospace\"><span style=\"font-weight: bold\">Model: \"sequential_40\"</span>\n",
              "</pre>\n"
            ]
          },
          "metadata": {}
        },
        {
          "output_type": "display_data",
          "data": {
            "text/plain": [
              "┏━━━━━━━━━━━━━━━━━━━━━━━━━━━━━━━━━━━━━━┳━━━━━━━━━━━━━━━━━━━━━━━━━━━━━┳━━━━━━━━━━━━━━━━━┓\n",
              "┃\u001b[1m \u001b[0m\u001b[1mLayer (type)                        \u001b[0m\u001b[1m \u001b[0m┃\u001b[1m \u001b[0m\u001b[1mOutput Shape               \u001b[0m\u001b[1m \u001b[0m┃\u001b[1m \u001b[0m\u001b[1m        Param #\u001b[0m\u001b[1m \u001b[0m┃\n",
              "┡━━━━━━━━━━━━━━━━━━━━━━━━━━━━━━━━━━━━━━╇━━━━━━━━━━━━━━━━━━━━━━━━━━━━━╇━━━━━━━━━━━━━━━━━┩\n",
              "│ conv2d_108 (\u001b[38;5;33mConv2D\u001b[0m)                  │ (\u001b[38;5;45mNone\u001b[0m, \u001b[38;5;34m200\u001b[0m, \u001b[38;5;34m200\u001b[0m, \u001b[38;5;34m32\u001b[0m)        │             \u001b[38;5;34m320\u001b[0m │\n",
              "├──────────────────────────────────────┼─────────────────────────────┼─────────────────┤\n",
              "│ conv2d_109 (\u001b[38;5;33mConv2D\u001b[0m)                  │ (\u001b[38;5;45mNone\u001b[0m, \u001b[38;5;34m200\u001b[0m, \u001b[38;5;34m200\u001b[0m, \u001b[38;5;34m32\u001b[0m)        │           \u001b[38;5;34m9,248\u001b[0m │\n",
              "├──────────────────────────────────────┼─────────────────────────────┼─────────────────┤\n",
              "│ max_pooling2d_86 (\u001b[38;5;33mMaxPooling2D\u001b[0m)      │ (\u001b[38;5;45mNone\u001b[0m, \u001b[38;5;34m100\u001b[0m, \u001b[38;5;34m100\u001b[0m, \u001b[38;5;34m32\u001b[0m)        │               \u001b[38;5;34m0\u001b[0m │\n",
              "├──────────────────────────────────────┼─────────────────────────────┼─────────────────┤\n",
              "│ dropout_21 (\u001b[38;5;33mDropout\u001b[0m)                 │ (\u001b[38;5;45mNone\u001b[0m, \u001b[38;5;34m100\u001b[0m, \u001b[38;5;34m100\u001b[0m, \u001b[38;5;34m32\u001b[0m)        │               \u001b[38;5;34m0\u001b[0m │\n",
              "├──────────────────────────────────────┼─────────────────────────────┼─────────────────┤\n",
              "│ conv2d_110 (\u001b[38;5;33mConv2D\u001b[0m)                  │ (\u001b[38;5;45mNone\u001b[0m, \u001b[38;5;34m100\u001b[0m, \u001b[38;5;34m100\u001b[0m, \u001b[38;5;34m64\u001b[0m)        │          \u001b[38;5;34m18,496\u001b[0m │\n",
              "├──────────────────────────────────────┼─────────────────────────────┼─────────────────┤\n",
              "│ conv2d_111 (\u001b[38;5;33mConv2D\u001b[0m)                  │ (\u001b[38;5;45mNone\u001b[0m, \u001b[38;5;34m100\u001b[0m, \u001b[38;5;34m100\u001b[0m, \u001b[38;5;34m64\u001b[0m)        │          \u001b[38;5;34m36,928\u001b[0m │\n",
              "├──────────────────────────────────────┼─────────────────────────────┼─────────────────┤\n",
              "│ max_pooling2d_87 (\u001b[38;5;33mMaxPooling2D\u001b[0m)      │ (\u001b[38;5;45mNone\u001b[0m, \u001b[38;5;34m50\u001b[0m, \u001b[38;5;34m50\u001b[0m, \u001b[38;5;34m64\u001b[0m)          │               \u001b[38;5;34m0\u001b[0m │\n",
              "├──────────────────────────────────────┼─────────────────────────────┼─────────────────┤\n",
              "│ dropout_22 (\u001b[38;5;33mDropout\u001b[0m)                 │ (\u001b[38;5;45mNone\u001b[0m, \u001b[38;5;34m50\u001b[0m, \u001b[38;5;34m50\u001b[0m, \u001b[38;5;34m64\u001b[0m)          │               \u001b[38;5;34m0\u001b[0m │\n",
              "├──────────────────────────────────────┼─────────────────────────────┼─────────────────┤\n",
              "│ conv2d_112 (\u001b[38;5;33mConv2D\u001b[0m)                  │ (\u001b[38;5;45mNone\u001b[0m, \u001b[38;5;34m50\u001b[0m, \u001b[38;5;34m50\u001b[0m, \u001b[38;5;34m128\u001b[0m)         │          \u001b[38;5;34m73,856\u001b[0m │\n",
              "├──────────────────────────────────────┼─────────────────────────────┼─────────────────┤\n",
              "│ conv2d_113 (\u001b[38;5;33mConv2D\u001b[0m)                  │ (\u001b[38;5;45mNone\u001b[0m, \u001b[38;5;34m50\u001b[0m, \u001b[38;5;34m50\u001b[0m, \u001b[38;5;34m128\u001b[0m)         │         \u001b[38;5;34m147,584\u001b[0m │\n",
              "├──────────────────────────────────────┼─────────────────────────────┼─────────────────┤\n",
              "│ max_pooling2d_88 (\u001b[38;5;33mMaxPooling2D\u001b[0m)      │ (\u001b[38;5;45mNone\u001b[0m, \u001b[38;5;34m25\u001b[0m, \u001b[38;5;34m25\u001b[0m, \u001b[38;5;34m128\u001b[0m)         │               \u001b[38;5;34m0\u001b[0m │\n",
              "├──────────────────────────────────────┼─────────────────────────────┼─────────────────┤\n",
              "│ dropout_23 (\u001b[38;5;33mDropout\u001b[0m)                 │ (\u001b[38;5;45mNone\u001b[0m, \u001b[38;5;34m25\u001b[0m, \u001b[38;5;34m25\u001b[0m, \u001b[38;5;34m128\u001b[0m)         │               \u001b[38;5;34m0\u001b[0m │\n",
              "├──────────────────────────────────────┼─────────────────────────────┼─────────────────┤\n",
              "│ flatten_23 (\u001b[38;5;33mFlatten\u001b[0m)                 │ (\u001b[38;5;45mNone\u001b[0m, \u001b[38;5;34m80000\u001b[0m)               │               \u001b[38;5;34m0\u001b[0m │\n",
              "├──────────────────────────────────────┼─────────────────────────────┼─────────────────┤\n",
              "│ dense_80 (\u001b[38;5;33mDense\u001b[0m)                     │ (\u001b[38;5;45mNone\u001b[0m, \u001b[38;5;34m512\u001b[0m)                 │      \u001b[38;5;34m40,960,512\u001b[0m │\n",
              "├──────────────────────────────────────┼─────────────────────────────┼─────────────────┤\n",
              "│ dropout_24 (\u001b[38;5;33mDropout\u001b[0m)                 │ (\u001b[38;5;45mNone\u001b[0m, \u001b[38;5;34m512\u001b[0m)                 │               \u001b[38;5;34m0\u001b[0m │\n",
              "├──────────────────────────────────────┼─────────────────────────────┼─────────────────┤\n",
              "│ dense_81 (\u001b[38;5;33mDense\u001b[0m)                     │ (\u001b[38;5;45mNone\u001b[0m, \u001b[38;5;34m27\u001b[0m)                  │          \u001b[38;5;34m13,851\u001b[0m │\n",
              "└──────────────────────────────────────┴─────────────────────────────┴─────────────────┘\n"
            ],
            "text/html": [
              "<pre style=\"white-space:pre;overflow-x:auto;line-height:normal;font-family:Menlo,'DejaVu Sans Mono',consolas,'Courier New',monospace\">┏━━━━━━━━━━━━━━━━━━━━━━━━━━━━━━━━━━━━━━┳━━━━━━━━━━━━━━━━━━━━━━━━━━━━━┳━━━━━━━━━━━━━━━━━┓\n",
              "┃<span style=\"font-weight: bold\"> Layer (type)                         </span>┃<span style=\"font-weight: bold\"> Output Shape                </span>┃<span style=\"font-weight: bold\">         Param # </span>┃\n",
              "┡━━━━━━━━━━━━━━━━━━━━━━━━━━━━━━━━━━━━━━╇━━━━━━━━━━━━━━━━━━━━━━━━━━━━━╇━━━━━━━━━━━━━━━━━┩\n",
              "│ conv2d_108 (<span style=\"color: #0087ff; text-decoration-color: #0087ff\">Conv2D</span>)                  │ (<span style=\"color: #00d7ff; text-decoration-color: #00d7ff\">None</span>, <span style=\"color: #00af00; text-decoration-color: #00af00\">200</span>, <span style=\"color: #00af00; text-decoration-color: #00af00\">200</span>, <span style=\"color: #00af00; text-decoration-color: #00af00\">32</span>)        │             <span style=\"color: #00af00; text-decoration-color: #00af00\">320</span> │\n",
              "├──────────────────────────────────────┼─────────────────────────────┼─────────────────┤\n",
              "│ conv2d_109 (<span style=\"color: #0087ff; text-decoration-color: #0087ff\">Conv2D</span>)                  │ (<span style=\"color: #00d7ff; text-decoration-color: #00d7ff\">None</span>, <span style=\"color: #00af00; text-decoration-color: #00af00\">200</span>, <span style=\"color: #00af00; text-decoration-color: #00af00\">200</span>, <span style=\"color: #00af00; text-decoration-color: #00af00\">32</span>)        │           <span style=\"color: #00af00; text-decoration-color: #00af00\">9,248</span> │\n",
              "├──────────────────────────────────────┼─────────────────────────────┼─────────────────┤\n",
              "│ max_pooling2d_86 (<span style=\"color: #0087ff; text-decoration-color: #0087ff\">MaxPooling2D</span>)      │ (<span style=\"color: #00d7ff; text-decoration-color: #00d7ff\">None</span>, <span style=\"color: #00af00; text-decoration-color: #00af00\">100</span>, <span style=\"color: #00af00; text-decoration-color: #00af00\">100</span>, <span style=\"color: #00af00; text-decoration-color: #00af00\">32</span>)        │               <span style=\"color: #00af00; text-decoration-color: #00af00\">0</span> │\n",
              "├──────────────────────────────────────┼─────────────────────────────┼─────────────────┤\n",
              "│ dropout_21 (<span style=\"color: #0087ff; text-decoration-color: #0087ff\">Dropout</span>)                 │ (<span style=\"color: #00d7ff; text-decoration-color: #00d7ff\">None</span>, <span style=\"color: #00af00; text-decoration-color: #00af00\">100</span>, <span style=\"color: #00af00; text-decoration-color: #00af00\">100</span>, <span style=\"color: #00af00; text-decoration-color: #00af00\">32</span>)        │               <span style=\"color: #00af00; text-decoration-color: #00af00\">0</span> │\n",
              "├──────────────────────────────────────┼─────────────────────────────┼─────────────────┤\n",
              "│ conv2d_110 (<span style=\"color: #0087ff; text-decoration-color: #0087ff\">Conv2D</span>)                  │ (<span style=\"color: #00d7ff; text-decoration-color: #00d7ff\">None</span>, <span style=\"color: #00af00; text-decoration-color: #00af00\">100</span>, <span style=\"color: #00af00; text-decoration-color: #00af00\">100</span>, <span style=\"color: #00af00; text-decoration-color: #00af00\">64</span>)        │          <span style=\"color: #00af00; text-decoration-color: #00af00\">18,496</span> │\n",
              "├──────────────────────────────────────┼─────────────────────────────┼─────────────────┤\n",
              "│ conv2d_111 (<span style=\"color: #0087ff; text-decoration-color: #0087ff\">Conv2D</span>)                  │ (<span style=\"color: #00d7ff; text-decoration-color: #00d7ff\">None</span>, <span style=\"color: #00af00; text-decoration-color: #00af00\">100</span>, <span style=\"color: #00af00; text-decoration-color: #00af00\">100</span>, <span style=\"color: #00af00; text-decoration-color: #00af00\">64</span>)        │          <span style=\"color: #00af00; text-decoration-color: #00af00\">36,928</span> │\n",
              "├──────────────────────────────────────┼─────────────────────────────┼─────────────────┤\n",
              "│ max_pooling2d_87 (<span style=\"color: #0087ff; text-decoration-color: #0087ff\">MaxPooling2D</span>)      │ (<span style=\"color: #00d7ff; text-decoration-color: #00d7ff\">None</span>, <span style=\"color: #00af00; text-decoration-color: #00af00\">50</span>, <span style=\"color: #00af00; text-decoration-color: #00af00\">50</span>, <span style=\"color: #00af00; text-decoration-color: #00af00\">64</span>)          │               <span style=\"color: #00af00; text-decoration-color: #00af00\">0</span> │\n",
              "├──────────────────────────────────────┼─────────────────────────────┼─────────────────┤\n",
              "│ dropout_22 (<span style=\"color: #0087ff; text-decoration-color: #0087ff\">Dropout</span>)                 │ (<span style=\"color: #00d7ff; text-decoration-color: #00d7ff\">None</span>, <span style=\"color: #00af00; text-decoration-color: #00af00\">50</span>, <span style=\"color: #00af00; text-decoration-color: #00af00\">50</span>, <span style=\"color: #00af00; text-decoration-color: #00af00\">64</span>)          │               <span style=\"color: #00af00; text-decoration-color: #00af00\">0</span> │\n",
              "├──────────────────────────────────────┼─────────────────────────────┼─────────────────┤\n",
              "│ conv2d_112 (<span style=\"color: #0087ff; text-decoration-color: #0087ff\">Conv2D</span>)                  │ (<span style=\"color: #00d7ff; text-decoration-color: #00d7ff\">None</span>, <span style=\"color: #00af00; text-decoration-color: #00af00\">50</span>, <span style=\"color: #00af00; text-decoration-color: #00af00\">50</span>, <span style=\"color: #00af00; text-decoration-color: #00af00\">128</span>)         │          <span style=\"color: #00af00; text-decoration-color: #00af00\">73,856</span> │\n",
              "├──────────────────────────────────────┼─────────────────────────────┼─────────────────┤\n",
              "│ conv2d_113 (<span style=\"color: #0087ff; text-decoration-color: #0087ff\">Conv2D</span>)                  │ (<span style=\"color: #00d7ff; text-decoration-color: #00d7ff\">None</span>, <span style=\"color: #00af00; text-decoration-color: #00af00\">50</span>, <span style=\"color: #00af00; text-decoration-color: #00af00\">50</span>, <span style=\"color: #00af00; text-decoration-color: #00af00\">128</span>)         │         <span style=\"color: #00af00; text-decoration-color: #00af00\">147,584</span> │\n",
              "├──────────────────────────────────────┼─────────────────────────────┼─────────────────┤\n",
              "│ max_pooling2d_88 (<span style=\"color: #0087ff; text-decoration-color: #0087ff\">MaxPooling2D</span>)      │ (<span style=\"color: #00d7ff; text-decoration-color: #00d7ff\">None</span>, <span style=\"color: #00af00; text-decoration-color: #00af00\">25</span>, <span style=\"color: #00af00; text-decoration-color: #00af00\">25</span>, <span style=\"color: #00af00; text-decoration-color: #00af00\">128</span>)         │               <span style=\"color: #00af00; text-decoration-color: #00af00\">0</span> │\n",
              "├──────────────────────────────────────┼─────────────────────────────┼─────────────────┤\n",
              "│ dropout_23 (<span style=\"color: #0087ff; text-decoration-color: #0087ff\">Dropout</span>)                 │ (<span style=\"color: #00d7ff; text-decoration-color: #00d7ff\">None</span>, <span style=\"color: #00af00; text-decoration-color: #00af00\">25</span>, <span style=\"color: #00af00; text-decoration-color: #00af00\">25</span>, <span style=\"color: #00af00; text-decoration-color: #00af00\">128</span>)         │               <span style=\"color: #00af00; text-decoration-color: #00af00\">0</span> │\n",
              "├──────────────────────────────────────┼─────────────────────────────┼─────────────────┤\n",
              "│ flatten_23 (<span style=\"color: #0087ff; text-decoration-color: #0087ff\">Flatten</span>)                 │ (<span style=\"color: #00d7ff; text-decoration-color: #00d7ff\">None</span>, <span style=\"color: #00af00; text-decoration-color: #00af00\">80000</span>)               │               <span style=\"color: #00af00; text-decoration-color: #00af00\">0</span> │\n",
              "├──────────────────────────────────────┼─────────────────────────────┼─────────────────┤\n",
              "│ dense_80 (<span style=\"color: #0087ff; text-decoration-color: #0087ff\">Dense</span>)                     │ (<span style=\"color: #00d7ff; text-decoration-color: #00d7ff\">None</span>, <span style=\"color: #00af00; text-decoration-color: #00af00\">512</span>)                 │      <span style=\"color: #00af00; text-decoration-color: #00af00\">40,960,512</span> │\n",
              "├──────────────────────────────────────┼─────────────────────────────┼─────────────────┤\n",
              "│ dropout_24 (<span style=\"color: #0087ff; text-decoration-color: #0087ff\">Dropout</span>)                 │ (<span style=\"color: #00d7ff; text-decoration-color: #00d7ff\">None</span>, <span style=\"color: #00af00; text-decoration-color: #00af00\">512</span>)                 │               <span style=\"color: #00af00; text-decoration-color: #00af00\">0</span> │\n",
              "├──────────────────────────────────────┼─────────────────────────────┼─────────────────┤\n",
              "│ dense_81 (<span style=\"color: #0087ff; text-decoration-color: #0087ff\">Dense</span>)                     │ (<span style=\"color: #00d7ff; text-decoration-color: #00d7ff\">None</span>, <span style=\"color: #00af00; text-decoration-color: #00af00\">27</span>)                  │          <span style=\"color: #00af00; text-decoration-color: #00af00\">13,851</span> │\n",
              "└──────────────────────────────────────┴─────────────────────────────┴─────────────────┘\n",
              "</pre>\n"
            ]
          },
          "metadata": {}
        },
        {
          "output_type": "display_data",
          "data": {
            "text/plain": [
              "\u001b[1m Total params: \u001b[0m\u001b[38;5;34m41,260,795\u001b[0m (157.40 MB)\n"
            ],
            "text/html": [
              "<pre style=\"white-space:pre;overflow-x:auto;line-height:normal;font-family:Menlo,'DejaVu Sans Mono',consolas,'Courier New',monospace\"><span style=\"font-weight: bold\"> Total params: </span><span style=\"color: #00af00; text-decoration-color: #00af00\">41,260,795</span> (157.40 MB)\n",
              "</pre>\n"
            ]
          },
          "metadata": {}
        },
        {
          "output_type": "display_data",
          "data": {
            "text/plain": [
              "\u001b[1m Trainable params: \u001b[0m\u001b[38;5;34m41,260,795\u001b[0m (157.40 MB)\n"
            ],
            "text/html": [
              "<pre style=\"white-space:pre;overflow-x:auto;line-height:normal;font-family:Menlo,'DejaVu Sans Mono',consolas,'Courier New',monospace\"><span style=\"font-weight: bold\"> Trainable params: </span><span style=\"color: #00af00; text-decoration-color: #00af00\">41,260,795</span> (157.40 MB)\n",
              "</pre>\n"
            ]
          },
          "metadata": {}
        },
        {
          "output_type": "display_data",
          "data": {
            "text/plain": [
              "\u001b[1m Non-trainable params: \u001b[0m\u001b[38;5;34m0\u001b[0m (0.00 B)\n"
            ],
            "text/html": [
              "<pre style=\"white-space:pre;overflow-x:auto;line-height:normal;font-family:Menlo,'DejaVu Sans Mono',consolas,'Courier New',monospace\"><span style=\"font-weight: bold\"> Non-trainable params: </span><span style=\"color: #00af00; text-decoration-color: #00af00\">0</span> (0.00 B)\n",
              "</pre>\n"
            ]
          },
          "metadata": {}
        }
      ]
    },
    {
      "cell_type": "code",
      "source": [
        "#Check that image & label shape are as expected\n",
        "for images, labels in train_dataset.take(1):\n",
        "    print(images.shape)  # Expected: (batch_size, 200, 200, 1)\n",
        "    print(labels.shape)  # Expected: (batch_size,)\n",
        "    print(labels.dtype)"
      ],
      "metadata": {
        "colab": {
          "base_uri": "https://localhost:8080/"
        },
        "id": "1X_Nt8leR_pG",
        "outputId": "ad690b8d-f164-4184-e94c-21b4f0b565be"
      },
      "execution_count": null,
      "outputs": [
        {
          "output_type": "stream",
          "name": "stdout",
          "text": [
            "(32, 200, 200, 3)\n",
            "(32,)\n",
            "<dtype: 'int32'>\n"
          ]
        }
      ]
    },
    {
      "cell_type": "code",
      "source": [
        "# Test the model with one batch and check if shape of output is expected\n",
        "for images, labels in train_dataset.take(1):\n",
        "    predictions = model(images)  # Forward pass\n",
        "    print(predictions.shape)  # Should print: (32, 27) if output layer has 27 classes"
      ],
      "metadata": {
        "colab": {
          "base_uri": "https://localhost:8080/"
        },
        "id": "KPlVC9nKSzZN",
        "outputId": "9296d7e6-fa2f-445d-9c7d-4d899f5f87c1"
      },
      "execution_count": null,
      "outputs": [
        {
          "output_type": "stream",
          "name": "stdout",
          "text": [
            "(32, 27)\n"
          ]
        }
      ]
    },
    {
      "cell_type": "code",
      "source": [
        "#define keras callback functions to stop early & reduce training when notcing no increase in accuracy\n",
        "\n",
        "early_stopping = tf.keras.callbacks.EarlyStopping(monitor='val_loss',\n",
        "                              min_delta=0.001,\n",
        "                              patience= 5,\n",
        "                              restore_best_weights= True,\n",
        "                              verbose = 0)\n",
        "\n",
        "reduce_learning_rate = tf.keras.callbacks.ReduceLROnPlateau(monitor='val_accuracy',\n",
        "                                         patience = 2,\n",
        "                                         factor=0.5 ,\n",
        "                                         verbose = 1)"
      ],
      "metadata": {
        "id": "hOQFoSZciY3s"
      },
      "execution_count": null,
      "outputs": []
    },
    {
      "cell_type": "code",
      "source": [
        "# Manually check one batch of images and labels from the generator\n",
        "for images, labels in custom_data_generator(image_paths, labels, batch_size=32, datagen=datagen, target_size=(200, 200)):\n",
        "    print(\"Images shape:\", images.shape)\n",
        "    print(\"Labels shape:\", labels.shape)\n",
        "    break  # Exit after one batch"
      ],
      "metadata": {
        "colab": {
          "base_uri": "https://localhost:8080/"
        },
        "id": "Q5m739I-mQSW",
        "outputId": "e7593e40-99a0-4a11-9004-ca57b56a968d"
      },
      "execution_count": null,
      "outputs": [
        {
          "output_type": "stream",
          "name": "stdout",
          "text": [
            "Images shape: (32, 200, 200, 1)\n",
            "Labels shape: (32,)\n"
          ]
        }
      ]
    },
    {
      "cell_type": "code",
      "source": [
        "batch_size = 32\n",
        "epoch_steps = ceil(len(img_train) / batch_size)\n",
        "validation_steps = ceil(len(img_test) / batch_size)\n",
        "#testing = model.fit(train_generator, epochs=30, validation_data=test_generator, steps_per_epoch=(epoch_steps), callbacks=[early_stopping, reduce_learning_rate], verbose=1)\n",
        "testing = model.fit(train_generator, epochs=30, validation_data=test_generator, steps_per_epoch=9, validation_steps=10, callbacks=[early_stopping, reduce_learning_rate], verbose=1)"
      ],
      "metadata": {
        "id": "0FgzKA3pvy1V",
        "colab": {
          "base_uri": "https://localhost:8080/",
          "height": 321
        },
        "outputId": "efcf39d3-4957-4042-83f2-b8be4d05c4ac"
      },
      "execution_count": null,
      "outputs": [
        {
          "output_type": "error",
          "ename": "AttributeError",
          "evalue": "'NumpyArrayIterator' object has no attribute 'shape'",
          "traceback": [
            "\u001b[0;31m---------------------------------------------------------------------------\u001b[0m",
            "\u001b[0;31mAttributeError\u001b[0m                            Traceback (most recent call last)",
            "\u001b[0;32m<ipython-input-289-238cdb693514>\u001b[0m in \u001b[0;36m<cell line: 5>\u001b[0;34m()\u001b[0m\n\u001b[1;32m      3\u001b[0m \u001b[0mvalidation_steps\u001b[0m \u001b[0;34m=\u001b[0m \u001b[0mceil\u001b[0m\u001b[0;34m(\u001b[0m\u001b[0mlen\u001b[0m\u001b[0;34m(\u001b[0m\u001b[0mimg_test\u001b[0m\u001b[0;34m)\u001b[0m \u001b[0;34m/\u001b[0m \u001b[0mbatch_size\u001b[0m\u001b[0;34m)\u001b[0m\u001b[0;34m\u001b[0m\u001b[0;34m\u001b[0m\u001b[0m\n\u001b[1;32m      4\u001b[0m \u001b[0;31m#testing = model.fit(train_generator, epochs=30, validation_data=test_generator, steps_per_epoch=(epoch_steps), callbacks=[early_stopping, reduce_learning_rate], verbose=1)\u001b[0m\u001b[0;34m\u001b[0m\u001b[0;34m\u001b[0m\u001b[0m\n\u001b[0;32m----> 5\u001b[0;31m \u001b[0mtesting\u001b[0m \u001b[0;34m=\u001b[0m \u001b[0mmodel\u001b[0m\u001b[0;34m.\u001b[0m\u001b[0mfit\u001b[0m\u001b[0;34m(\u001b[0m\u001b[0mtrain_generator\u001b[0m\u001b[0;34m,\u001b[0m \u001b[0mepochs\u001b[0m\u001b[0;34m=\u001b[0m\u001b[0;36m30\u001b[0m\u001b[0;34m,\u001b[0m \u001b[0mvalidation_data\u001b[0m\u001b[0;34m=\u001b[0m\u001b[0mtest_generator\u001b[0m\u001b[0;34m,\u001b[0m \u001b[0msteps_per_epoch\u001b[0m\u001b[0;34m=\u001b[0m\u001b[0;36m9\u001b[0m\u001b[0;34m,\u001b[0m \u001b[0mvalidation_steps\u001b[0m\u001b[0;34m=\u001b[0m\u001b[0;36m10\u001b[0m\u001b[0;34m,\u001b[0m \u001b[0mcallbacks\u001b[0m\u001b[0;34m=\u001b[0m\u001b[0;34m[\u001b[0m\u001b[0mearly_stopping\u001b[0m\u001b[0;34m,\u001b[0m \u001b[0mreduce_learning_rate\u001b[0m\u001b[0;34m]\u001b[0m\u001b[0;34m,\u001b[0m \u001b[0mverbose\u001b[0m\u001b[0;34m=\u001b[0m\u001b[0;36m1\u001b[0m\u001b[0;34m)\u001b[0m\u001b[0;34m\u001b[0m\u001b[0;34m\u001b[0m\u001b[0m\n\u001b[0m",
            "\u001b[0;32m/usr/local/lib/python3.10/dist-packages/keras/src/utils/traceback_utils.py\u001b[0m in \u001b[0;36merror_handler\u001b[0;34m(*args, **kwargs)\u001b[0m\n\u001b[1;32m    120\u001b[0m             \u001b[0;31m# To get the full stack trace, call:\u001b[0m\u001b[0;34m\u001b[0m\u001b[0;34m\u001b[0m\u001b[0m\n\u001b[1;32m    121\u001b[0m             \u001b[0;31m# `keras.config.disable_traceback_filtering()`\u001b[0m\u001b[0;34m\u001b[0m\u001b[0;34m\u001b[0m\u001b[0m\n\u001b[0;32m--> 122\u001b[0;31m             \u001b[0;32mraise\u001b[0m \u001b[0me\u001b[0m\u001b[0;34m.\u001b[0m\u001b[0mwith_traceback\u001b[0m\u001b[0;34m(\u001b[0m\u001b[0mfiltered_tb\u001b[0m\u001b[0;34m)\u001b[0m \u001b[0;32mfrom\u001b[0m \u001b[0;32mNone\u001b[0m\u001b[0;34m\u001b[0m\u001b[0;34m\u001b[0m\u001b[0m\n\u001b[0m\u001b[1;32m    123\u001b[0m         \u001b[0;32mfinally\u001b[0m\u001b[0;34m:\u001b[0m\u001b[0;34m\u001b[0m\u001b[0;34m\u001b[0m\u001b[0m\n\u001b[1;32m    124\u001b[0m             \u001b[0;32mdel\u001b[0m \u001b[0mfiltered_tb\u001b[0m\u001b[0;34m\u001b[0m\u001b[0;34m\u001b[0m\u001b[0m\n",
            "\u001b[0;32m/usr/local/lib/python3.10/dist-packages/optree/ops.py\u001b[0m in \u001b[0;36mtree_map\u001b[0;34m(func, tree, is_leaf, none_is_leaf, namespace, *rests)\u001b[0m\n\u001b[1;32m    745\u001b[0m     \u001b[0mleaves\u001b[0m\u001b[0;34m,\u001b[0m \u001b[0mtreespec\u001b[0m \u001b[0;34m=\u001b[0m \u001b[0m_C\u001b[0m\u001b[0;34m.\u001b[0m\u001b[0mflatten\u001b[0m\u001b[0;34m(\u001b[0m\u001b[0mtree\u001b[0m\u001b[0;34m,\u001b[0m \u001b[0mis_leaf\u001b[0m\u001b[0;34m,\u001b[0m \u001b[0mnone_is_leaf\u001b[0m\u001b[0;34m,\u001b[0m \u001b[0mnamespace\u001b[0m\u001b[0;34m)\u001b[0m\u001b[0;34m\u001b[0m\u001b[0;34m\u001b[0m\u001b[0m\n\u001b[1;32m    746\u001b[0m     \u001b[0mflat_args\u001b[0m \u001b[0;34m=\u001b[0m \u001b[0;34m[\u001b[0m\u001b[0mleaves\u001b[0m\u001b[0;34m]\u001b[0m \u001b[0;34m+\u001b[0m \u001b[0;34m[\u001b[0m\u001b[0mtreespec\u001b[0m\u001b[0;34m.\u001b[0m\u001b[0mflatten_up_to\u001b[0m\u001b[0;34m(\u001b[0m\u001b[0mr\u001b[0m\u001b[0;34m)\u001b[0m \u001b[0;32mfor\u001b[0m \u001b[0mr\u001b[0m \u001b[0;32min\u001b[0m \u001b[0mrests\u001b[0m\u001b[0;34m]\u001b[0m\u001b[0;34m\u001b[0m\u001b[0;34m\u001b[0m\u001b[0m\n\u001b[0;32m--> 747\u001b[0;31m     \u001b[0;32mreturn\u001b[0m \u001b[0mtreespec\u001b[0m\u001b[0;34m.\u001b[0m\u001b[0munflatten\u001b[0m\u001b[0;34m(\u001b[0m\u001b[0mmap\u001b[0m\u001b[0;34m(\u001b[0m\u001b[0mfunc\u001b[0m\u001b[0;34m,\u001b[0m \u001b[0;34m*\u001b[0m\u001b[0mflat_args\u001b[0m\u001b[0;34m)\u001b[0m\u001b[0;34m)\u001b[0m\u001b[0;34m\u001b[0m\u001b[0;34m\u001b[0m\u001b[0m\n\u001b[0m\u001b[1;32m    748\u001b[0m \u001b[0;34m\u001b[0m\u001b[0m\n\u001b[1;32m    749\u001b[0m \u001b[0;34m\u001b[0m\u001b[0m\n",
            "\u001b[0;31mAttributeError\u001b[0m: 'NumpyArrayIterator' object has no attribute 'shape'"
          ]
        }
      ]
    },
    {
      "cell_type": "code",
      "source": [
        "for data in test_generator:\n",
        "    print(data)  # This should print batches of images and labels\n",
        "    break"
      ],
      "metadata": {
        "colab": {
          "base_uri": "https://localhost:8080/"
        },
        "id": "1R-K4lBG5W8f",
        "outputId": "3ddb0234-5e6d-4cce-c67a-d218ebba4f75"
      },
      "execution_count": null,
      "outputs": [
        {
          "output_type": "stream",
          "name": "stdout",
          "text": [
            "(array([[[[0.00044598],\n",
            "         [0.00044598],\n",
            "         [0.00044598],\n",
            "         ...,\n",
            "         [0.00044598],\n",
            "         [0.00044598],\n",
            "         [0.00043895]],\n",
            "\n",
            "        [[0.00044598],\n",
            "         [0.00044598],\n",
            "         [0.00044598],\n",
            "         ...,\n",
            "         [0.00044598],\n",
            "         [0.00044598],\n",
            "         [0.00043374]],\n",
            "\n",
            "        [[0.00044598],\n",
            "         [0.00044598],\n",
            "         [0.00044598],\n",
            "         ...,\n",
            "         [0.00044598],\n",
            "         [0.00044137],\n",
            "         [0.00043267]],\n",
            "\n",
            "        ...,\n",
            "\n",
            "        [[0.00045908],\n",
            "         [0.00044625],\n",
            "         [0.00044598],\n",
            "         ...,\n",
            "         [0.00044598],\n",
            "         [0.00044598],\n",
            "         [0.00044598]],\n",
            "\n",
            "        [[0.00045387],\n",
            "         [0.00044598],\n",
            "         [0.00044598],\n",
            "         ...,\n",
            "         [0.00044598],\n",
            "         [0.00044598],\n",
            "         [0.00044598]],\n",
            "\n",
            "        [[0.00044867],\n",
            "         [0.00044598],\n",
            "         [0.00044598],\n",
            "         ...,\n",
            "         [0.00044598],\n",
            "         [0.00044598],\n",
            "         [0.00044598]]],\n",
            "\n",
            "\n",
            "       [[[0.0004306 ],\n",
            "         [0.0004306 ],\n",
            "         [0.0004306 ],\n",
            "         ...,\n",
            "         [0.0004306 ],\n",
            "         [0.0004306 ],\n",
            "         [0.0004306 ]],\n",
            "\n",
            "        [[0.0004306 ],\n",
            "         [0.0004306 ],\n",
            "         [0.0004306 ],\n",
            "         ...,\n",
            "         [0.0004306 ],\n",
            "         [0.0004306 ],\n",
            "         [0.0004306 ]],\n",
            "\n",
            "        [[0.0004306 ],\n",
            "         [0.0004306 ],\n",
            "         [0.0004306 ],\n",
            "         ...,\n",
            "         [0.0004306 ],\n",
            "         [0.0004306 ],\n",
            "         [0.0004306 ]],\n",
            "\n",
            "        ...,\n",
            "\n",
            "        [[0.00045517],\n",
            "         [0.00045542],\n",
            "         [0.00045568],\n",
            "         ...,\n",
            "         [0.00216531],\n",
            "         [0.00149073],\n",
            "         [0.00044598]],\n",
            "\n",
            "        [[0.00046136],\n",
            "         [0.00046136],\n",
            "         [0.00046136],\n",
            "         ...,\n",
            "         [0.00216716],\n",
            "         [0.00151494],\n",
            "         [0.00044598]],\n",
            "\n",
            "        [[0.00045666],\n",
            "         [0.0004564 ],\n",
            "         [0.00045615],\n",
            "         ...,\n",
            "         [0.0021684 ],\n",
            "         [0.00153537],\n",
            "         [0.00044598]]],\n",
            "\n",
            "\n",
            "       [[[0.00041522],\n",
            "         [0.00041522],\n",
            "         [0.00041522],\n",
            "         ...,\n",
            "         [0.00096752],\n",
            "         [0.00099114],\n",
            "         [0.00098253]],\n",
            "\n",
            "        [[0.00041522],\n",
            "         [0.00041522],\n",
            "         [0.00041522],\n",
            "         ...,\n",
            "         [0.00099167],\n",
            "         [0.00102733],\n",
            "         [0.00102227]],\n",
            "\n",
            "        [[0.00041522],\n",
            "         [0.00041522],\n",
            "         [0.00041522],\n",
            "         ...,\n",
            "         [0.00097473],\n",
            "         [0.00099032],\n",
            "         [0.00096464]],\n",
            "\n",
            "        ...,\n",
            "\n",
            "        [[0.00044598],\n",
            "         [0.00044598],\n",
            "         [0.00044598],\n",
            "         ...,\n",
            "         [0.0004575 ],\n",
            "         [0.00044882],\n",
            "         [0.00044598]],\n",
            "\n",
            "        [[0.00044598],\n",
            "         [0.00044598],\n",
            "         [0.00044598],\n",
            "         ...,\n",
            "         [0.00045574],\n",
            "         [0.00045058],\n",
            "         [0.00044598]],\n",
            "\n",
            "        [[0.00044598],\n",
            "         [0.00044598],\n",
            "         [0.00044598],\n",
            "         ...,\n",
            "         [0.00045399],\n",
            "         [0.00045234],\n",
            "         [0.00044598]]],\n",
            "\n",
            "\n",
            "       ...,\n",
            "\n",
            "\n",
            "       [[[0.00044419],\n",
            "         [0.00045841],\n",
            "         [0.00045557],\n",
            "         ...,\n",
            "         [0.00044609],\n",
            "         [0.00043749],\n",
            "         [0.00043316]],\n",
            "\n",
            "        [[0.00046339],\n",
            "         [0.00043441],\n",
            "         [0.00047477],\n",
            "         ...,\n",
            "         [0.00046039],\n",
            "         [0.00047328],\n",
            "         [0.0004736 ]],\n",
            "\n",
            "        [[0.00046943],\n",
            "         [0.00041907],\n",
            "         [0.00048981],\n",
            "         ...,\n",
            "         [0.00046452],\n",
            "         [0.00045909],\n",
            "         [0.00045049]],\n",
            "\n",
            "        ...,\n",
            "\n",
            "        [[0.00044598],\n",
            "         [0.00044598],\n",
            "         [0.00044598],\n",
            "         ...,\n",
            "         [0.0004293 ],\n",
            "         [0.00046106],\n",
            "         [0.00046066]],\n",
            "\n",
            "        [[0.00044598],\n",
            "         [0.00044598],\n",
            "         [0.00044598],\n",
            "         ...,\n",
            "         [0.0004197 ],\n",
            "         [0.00045146],\n",
            "         [0.00047026]],\n",
            "\n",
            "        [[0.00044439],\n",
            "         [0.0004401 ],\n",
            "         [0.0004358 ],\n",
            "         ...,\n",
            "         [0.00042034],\n",
            "         [0.00044186],\n",
            "         [0.00047362]]],\n",
            "\n",
            "\n",
            "       [[[0.00045166],\n",
            "         [0.00045867],\n",
            "         [0.00045704],\n",
            "         ...,\n",
            "         [0.00046136],\n",
            "         [0.00045194],\n",
            "         [0.00044598]],\n",
            "\n",
            "        [[0.0004538 ],\n",
            "         [0.0004468 ],\n",
            "         [0.00045218],\n",
            "         ...,\n",
            "         [0.00045968],\n",
            "         [0.00044598],\n",
            "         [0.00044598]],\n",
            "\n",
            "        [[0.00044947],\n",
            "         [0.0004603 ],\n",
            "         [0.00045329],\n",
            "         ...,\n",
            "         [0.0004531 ],\n",
            "         [0.00044598],\n",
            "         [0.00044598]],\n",
            "\n",
            "        ...,\n",
            "\n",
            "        [[0.00045287],\n",
            "         [0.00043855],\n",
            "         [0.00043698],\n",
            "         ...,\n",
            "         [0.00044311],\n",
            "         [0.0004361 ],\n",
            "         [0.0004306 ]],\n",
            "\n",
            "        [[0.00044629],\n",
            "         [0.00043197],\n",
            "         [0.00044356],\n",
            "         ...,\n",
            "         [0.00044598],\n",
            "         [0.00044598],\n",
            "         [0.0004426 ]],\n",
            "\n",
            "        [[0.00043971],\n",
            "         [0.00043582],\n",
            "         [0.00045014],\n",
            "         ...,\n",
            "         [0.00044598],\n",
            "         [0.00044598],\n",
            "         [0.00044598]]],\n",
            "\n",
            "\n",
            "       [[[0.00039213],\n",
            "         [0.00038887],\n",
            "         [0.00040285],\n",
            "         ...,\n",
            "         [0.00044598],\n",
            "         [0.00044598],\n",
            "         [0.00044598]],\n",
            "\n",
            "        [[0.00044213],\n",
            "         [0.00043095],\n",
            "         [0.00041977],\n",
            "         ...,\n",
            "         [0.00044598],\n",
            "         [0.00044598],\n",
            "         [0.00044598]],\n",
            "\n",
            "        [[0.00045752],\n",
            "         [0.00045472],\n",
            "         [0.00045193],\n",
            "         ...,\n",
            "         [0.00044598],\n",
            "         [0.00044598],\n",
            "         [0.00044598]],\n",
            "\n",
            "        ...,\n",
            "\n",
            "        [[0.00189266],\n",
            "         [0.00190579],\n",
            "         [0.00190372],\n",
            "         ...,\n",
            "         [0.00045444],\n",
            "         [0.00045723],\n",
            "         [0.00046003]],\n",
            "\n",
            "        [[0.00189158],\n",
            "         [0.00189328],\n",
            "         [0.00189802],\n",
            "         ...,\n",
            "         [0.00044194],\n",
            "         [0.00044473],\n",
            "         [0.00044753]],\n",
            "\n",
            "        [[0.00189158],\n",
            "         [0.00189158],\n",
            "         [0.00189671],\n",
            "         ...,\n",
            "         [0.00043177],\n",
            "         [0.00043223],\n",
            "         [0.00043503]]]], dtype=float32), array([ 3,  1, 26,  5, 23, 23,  0, 26, 14, 26, 23,  0, 17, 14, 24, 12,  5,\n",
            "       21,  1, 22, 18, 23, 11, 24,  7, 16, 26,  4,  0, 26,  5,  2]))\n"
          ]
        }
      ]
    },
    {
      "cell_type": "code",
      "source": [
        "model.save('ASLClassifier.h5')"
      ],
      "metadata": {
        "id": "S6R_pgj_lGRF"
      },
      "execution_count": null,
      "outputs": []
    }
  ]
}